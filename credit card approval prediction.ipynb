{
 "cells": [
  {
   "cell_type": "code",
   "execution_count": 1,
   "id": "deef3857",
   "metadata": {},
   "outputs": [],
   "source": [
    "import pandas as pd\n",
    "import numpy as np\n",
    "import seaborn as sns\n",
    "import matplotlib.pyplot as plt\n",
    "from sklearn.model_selection import train_test_split\n",
    "from sklearn.metrics import accuracy_score \n",
    "from sklearn.preprocessing import OrdinalEncoder\n",
    "from sklearn.tree import DecisionTreeClassifier\n",
    "from sklearn.ensemble import GradientBoostingClassifier\n",
    "from sklearn.neighbors import KNeighborsClassifier\n",
    "from pandas import DataFrame"
   ]
  },
  {
   "cell_type": "code",
   "execution_count": 2,
   "id": "532b1d0d",
   "metadata": {},
   "outputs": [],
   "source": [
    "#load dataset\n",
    "df=pd.read_csv(\"https://archive.ics.uci.edu/ml/machine-learning-databases/credit-screening/crx.data\")"
   ]
  },
  {
   "cell_type": "code",
   "execution_count": 3,
   "id": "eec5eaf4",
   "metadata": {},
   "outputs": [
    {
     "data": {
      "text/html": [
       "<div>\n",
       "<style scoped>\n",
       "    .dataframe tbody tr th:only-of-type {\n",
       "        vertical-align: middle;\n",
       "    }\n",
       "\n",
       "    .dataframe tbody tr th {\n",
       "        vertical-align: top;\n",
       "    }\n",
       "\n",
       "    .dataframe thead th {\n",
       "        text-align: right;\n",
       "    }\n",
       "</style>\n",
       "<table border=\"1\" class=\"dataframe\">\n",
       "  <thead>\n",
       "    <tr style=\"text-align: right;\">\n",
       "      <th></th>\n",
       "      <th>Gender</th>\n",
       "      <th>Age</th>\n",
       "      <th>debt</th>\n",
       "      <th>married</th>\n",
       "      <th>bankcustomer</th>\n",
       "      <th>educationlevel</th>\n",
       "      <th>ethinicity</th>\n",
       "      <th>yearsemployed</th>\n",
       "      <th>priordfult</th>\n",
       "      <th>employed</th>\n",
       "      <th>creditscore</th>\n",
       "      <th>driverlicense</th>\n",
       "      <th>citizen</th>\n",
       "      <th>zipcode</th>\n",
       "      <th>income</th>\n",
       "      <th>approvalstatus</th>\n",
       "    </tr>\n",
       "  </thead>\n",
       "  <tbody>\n",
       "    <tr>\n",
       "      <th>0</th>\n",
       "      <td>b</td>\n",
       "      <td>30.83</td>\n",
       "      <td>0.000</td>\n",
       "      <td>u</td>\n",
       "      <td>g</td>\n",
       "      <td>w</td>\n",
       "      <td>v</td>\n",
       "      <td>1.25</td>\n",
       "      <td>t</td>\n",
       "      <td>t</td>\n",
       "      <td>1</td>\n",
       "      <td>f</td>\n",
       "      <td>g</td>\n",
       "      <td>00202</td>\n",
       "      <td>0</td>\n",
       "      <td>+</td>\n",
       "    </tr>\n",
       "    <tr>\n",
       "      <th>1</th>\n",
       "      <td>a</td>\n",
       "      <td>58.67</td>\n",
       "      <td>4.460</td>\n",
       "      <td>u</td>\n",
       "      <td>g</td>\n",
       "      <td>q</td>\n",
       "      <td>h</td>\n",
       "      <td>3.04</td>\n",
       "      <td>t</td>\n",
       "      <td>t</td>\n",
       "      <td>6</td>\n",
       "      <td>f</td>\n",
       "      <td>g</td>\n",
       "      <td>00043</td>\n",
       "      <td>560</td>\n",
       "      <td>+</td>\n",
       "    </tr>\n",
       "    <tr>\n",
       "      <th>2</th>\n",
       "      <td>a</td>\n",
       "      <td>24.50</td>\n",
       "      <td>0.500</td>\n",
       "      <td>u</td>\n",
       "      <td>g</td>\n",
       "      <td>q</td>\n",
       "      <td>h</td>\n",
       "      <td>1.50</td>\n",
       "      <td>t</td>\n",
       "      <td>f</td>\n",
       "      <td>0</td>\n",
       "      <td>f</td>\n",
       "      <td>g</td>\n",
       "      <td>00280</td>\n",
       "      <td>824</td>\n",
       "      <td>+</td>\n",
       "    </tr>\n",
       "    <tr>\n",
       "      <th>3</th>\n",
       "      <td>b</td>\n",
       "      <td>27.83</td>\n",
       "      <td>1.540</td>\n",
       "      <td>u</td>\n",
       "      <td>g</td>\n",
       "      <td>w</td>\n",
       "      <td>v</td>\n",
       "      <td>3.75</td>\n",
       "      <td>t</td>\n",
       "      <td>t</td>\n",
       "      <td>5</td>\n",
       "      <td>t</td>\n",
       "      <td>g</td>\n",
       "      <td>00100</td>\n",
       "      <td>3</td>\n",
       "      <td>+</td>\n",
       "    </tr>\n",
       "    <tr>\n",
       "      <th>4</th>\n",
       "      <td>b</td>\n",
       "      <td>20.17</td>\n",
       "      <td>5.625</td>\n",
       "      <td>u</td>\n",
       "      <td>g</td>\n",
       "      <td>w</td>\n",
       "      <td>v</td>\n",
       "      <td>1.71</td>\n",
       "      <td>t</td>\n",
       "      <td>f</td>\n",
       "      <td>0</td>\n",
       "      <td>f</td>\n",
       "      <td>s</td>\n",
       "      <td>00120</td>\n",
       "      <td>0</td>\n",
       "      <td>+</td>\n",
       "    </tr>\n",
       "  </tbody>\n",
       "</table>\n",
       "</div>"
      ],
      "text/plain": [
       "  Gender    Age   debt married bankcustomer educationlevel ethinicity  \\\n",
       "0      b  30.83  0.000       u            g              w          v   \n",
       "1      a  58.67  4.460       u            g              q          h   \n",
       "2      a  24.50  0.500       u            g              q          h   \n",
       "3      b  27.83  1.540       u            g              w          v   \n",
       "4      b  20.17  5.625       u            g              w          v   \n",
       "\n",
       "   yearsemployed priordfult employed  creditscore driverlicense citizen  \\\n",
       "0           1.25          t        t            1             f       g   \n",
       "1           3.04          t        t            6             f       g   \n",
       "2           1.50          t        f            0             f       g   \n",
       "3           3.75          t        t            5             t       g   \n",
       "4           1.71          t        f            0             f       s   \n",
       "\n",
       "  zipcode  income approvalstatus  \n",
       "0   00202       0              +  \n",
       "1   00043     560              +  \n",
       "2   00280     824              +  \n",
       "3   00100       3              +  \n",
       "4   00120       0              +  "
      ]
     },
     "execution_count": 3,
     "metadata": {},
     "output_type": "execute_result"
    }
   ],
   "source": [
    "header_names=['Gender','Age','debt','married','bankcustomer','educationlevel','ethinicity','yearsemployed','priordfult','employed','creditscore','driverlicense','citizen', 'zipcode','income','approvalstatus']\n",
    "df=pd.read_csv(\"https://archive.ics.uci.edu/ml/machine-learning-databases/credit-screening/crx.data\",names=header_names)\n",
    "\n",
    "#inspect data\n",
    "df.head()"
   ]
  },
  {
   "cell_type": "code",
   "execution_count": 4,
   "id": "28125373",
   "metadata": {},
   "outputs": [
    {
     "name": "stdout",
     "output_type": "stream",
     "text": [
      "<class 'pandas.core.frame.DataFrame'>\n",
      "RangeIndex: 690 entries, 0 to 689\n",
      "Data columns (total 16 columns):\n",
      " #   Column          Non-Null Count  Dtype  \n",
      "---  ------          --------------  -----  \n",
      " 0   Gender          690 non-null    object \n",
      " 1   Age             690 non-null    object \n",
      " 2   debt            690 non-null    float64\n",
      " 3   married         690 non-null    object \n",
      " 4   bankcustomer    690 non-null    object \n",
      " 5   educationlevel  690 non-null    object \n",
      " 6   ethinicity      690 non-null    object \n",
      " 7   yearsemployed   690 non-null    float64\n",
      " 8   priordfult      690 non-null    object \n",
      " 9   employed        690 non-null    object \n",
      " 10  creditscore     690 non-null    int64  \n",
      " 11  driverlicense   690 non-null    object \n",
      " 12  citizen         690 non-null    object \n",
      " 13  zipcode         690 non-null    object \n",
      " 14  income          690 non-null    int64  \n",
      " 15  approvalstatus  690 non-null    object \n",
      "dtypes: float64(2), int64(2), object(12)\n",
      "memory usage: 86.4+ KB\n"
     ]
    }
   ],
   "source": [
    "#data info\n",
    "df.info()"
   ]
  },
  {
   "cell_type": "code",
   "execution_count": 5,
   "id": "aff7e38e",
   "metadata": {},
   "outputs": [
    {
     "data": {
      "text/html": [
       "<div>\n",
       "<style scoped>\n",
       "    .dataframe tbody tr th:only-of-type {\n",
       "        vertical-align: middle;\n",
       "    }\n",
       "\n",
       "    .dataframe tbody tr th {\n",
       "        vertical-align: top;\n",
       "    }\n",
       "\n",
       "    .dataframe thead th {\n",
       "        text-align: right;\n",
       "    }\n",
       "</style>\n",
       "<table border=\"1\" class=\"dataframe\">\n",
       "  <thead>\n",
       "    <tr style=\"text-align: right;\">\n",
       "      <th></th>\n",
       "      <th>debt</th>\n",
       "      <th>yearsemployed</th>\n",
       "      <th>creditscore</th>\n",
       "      <th>income</th>\n",
       "    </tr>\n",
       "  </thead>\n",
       "  <tbody>\n",
       "    <tr>\n",
       "      <th>count</th>\n",
       "      <td>690.000000</td>\n",
       "      <td>690.000000</td>\n",
       "      <td>690.00000</td>\n",
       "      <td>690.000000</td>\n",
       "    </tr>\n",
       "    <tr>\n",
       "      <th>mean</th>\n",
       "      <td>4.758725</td>\n",
       "      <td>2.223406</td>\n",
       "      <td>2.40000</td>\n",
       "      <td>1017.385507</td>\n",
       "    </tr>\n",
       "    <tr>\n",
       "      <th>std</th>\n",
       "      <td>4.978163</td>\n",
       "      <td>3.346513</td>\n",
       "      <td>4.86294</td>\n",
       "      <td>5210.102598</td>\n",
       "    </tr>\n",
       "    <tr>\n",
       "      <th>min</th>\n",
       "      <td>0.000000</td>\n",
       "      <td>0.000000</td>\n",
       "      <td>0.00000</td>\n",
       "      <td>0.000000</td>\n",
       "    </tr>\n",
       "    <tr>\n",
       "      <th>25%</th>\n",
       "      <td>1.000000</td>\n",
       "      <td>0.165000</td>\n",
       "      <td>0.00000</td>\n",
       "      <td>0.000000</td>\n",
       "    </tr>\n",
       "    <tr>\n",
       "      <th>50%</th>\n",
       "      <td>2.750000</td>\n",
       "      <td>1.000000</td>\n",
       "      <td>0.00000</td>\n",
       "      <td>5.000000</td>\n",
       "    </tr>\n",
       "    <tr>\n",
       "      <th>75%</th>\n",
       "      <td>7.207500</td>\n",
       "      <td>2.625000</td>\n",
       "      <td>3.00000</td>\n",
       "      <td>395.500000</td>\n",
       "    </tr>\n",
       "    <tr>\n",
       "      <th>max</th>\n",
       "      <td>28.000000</td>\n",
       "      <td>28.500000</td>\n",
       "      <td>67.00000</td>\n",
       "      <td>100000.000000</td>\n",
       "    </tr>\n",
       "  </tbody>\n",
       "</table>\n",
       "</div>"
      ],
      "text/plain": [
       "             debt  yearsemployed  creditscore         income\n",
       "count  690.000000     690.000000    690.00000     690.000000\n",
       "mean     4.758725       2.223406      2.40000    1017.385507\n",
       "std      4.978163       3.346513      4.86294    5210.102598\n",
       "min      0.000000       0.000000      0.00000       0.000000\n",
       "25%      1.000000       0.165000      0.00000       0.000000\n",
       "50%      2.750000       1.000000      0.00000       5.000000\n",
       "75%      7.207500       2.625000      3.00000     395.500000\n",
       "max     28.000000      28.500000     67.00000  100000.000000"
      ]
     },
     "execution_count": 5,
     "metadata": {},
     "output_type": "execute_result"
    }
   ],
   "source": [
    "#summary stat.\n",
    "df.describe()"
   ]
  },
  {
   "cell_type": "code",
   "execution_count": 6,
   "id": "abce4b17",
   "metadata": {},
   "outputs": [
    {
     "name": "stdout",
     "output_type": "stream",
     "text": [
      "['b' 'a' '?']\n",
      "['30.83' '58.67' '24.50' '27.83' '20.17' '32.08' '33.17' '22.92' '54.42'\n",
      " '42.50' '22.08' '29.92' '38.25' '48.08' '45.83' '36.67' '28.25' '23.25'\n",
      " '21.83' '19.17' '25.00' '47.75' '27.42' '41.17' '15.83' '47.00' '56.58'\n",
      " '57.42' '42.08' '29.25' '42.00' '49.50' '36.75' '22.58' '27.25' '23.00'\n",
      " '27.75' '54.58' '34.17' '28.92' '29.67' '39.58' '56.42' '54.33' '41.00'\n",
      " '31.92' '41.50' '23.92' '25.75' '26.00' '37.42' '34.92' '34.25' '23.33'\n",
      " '23.17' '44.33' '35.17' '43.25' '56.75' '31.67' '23.42' '20.42' '26.67'\n",
      " '36.00' '25.50' '19.42' '32.33' '34.83' '38.58' '44.25' '44.83' '20.67'\n",
      " '34.08' '21.67' '21.50' '49.58' '27.67' '39.83' '?' '37.17' '25.67'\n",
      " '34.00' '49.00' '62.50' '31.42' '52.33' '28.75' '28.58' '22.50' '28.50'\n",
      " '37.50' '35.25' '18.67' '54.83' '40.92' '19.75' '29.17' '24.58' '33.75'\n",
      " '25.42' '37.75' '52.50' '57.83' '20.75' '39.92' '24.75' '44.17' '23.50'\n",
      " '47.67' '22.75' '34.42' '28.42' '67.75' '47.42' '36.25' '32.67' '48.58'\n",
      " '33.58' '18.83' '26.92' '31.25' '56.50' '43.00' '22.33' '32.83' '40.33'\n",
      " '30.50' '52.83' '46.67' '58.33' '37.33' '23.08' '32.75' '68.67' '28.00'\n",
      " '44.00' '25.08' '32.00' '60.58' '40.83' '19.33' '41.33' '56.00' '49.83'\n",
      " '22.67' '27.00' '26.08' '18.42' '21.25' '57.08' '22.42' '48.75' '40.00'\n",
      " '40.58' '28.67' '33.08' '21.33' '41.75' '34.50' '48.17' '27.58' '24.08'\n",
      " '24.83' '36.33' '35.42' '71.58' '39.50' '39.33' '24.33' '60.08' '55.92'\n",
      " '53.92' '18.92' '50.08' '65.42' '17.58' '18.08' '19.67' '25.17' '33.50'\n",
      " '58.42' '26.17' '42.83' '38.17' '20.50' '48.25' '28.33' '18.75' '18.50'\n",
      " '45.00' '40.25' '41.42' '17.83' '18.17' '20.00' '52.17' '50.75' '17.08'\n",
      " '18.33' '59.67' '18.00' '37.58' '30.67' '18.58' '16.25' '21.17' '17.67'\n",
      " '16.50' '29.50' '21.75' '18.25' '35.75' '16.08' '69.17' '32.92' '16.33'\n",
      " '22.17' '57.58' '15.92' '31.75' '19.00' '17.50' '33.67' '30.17' '33.25'\n",
      " '25.25' '34.75' '47.33' '39.08' '42.75' '38.92' '62.75' '32.25' '26.75'\n",
      " '63.33' '30.75' '16.00' '19.50' '32.42' '30.25' '26.83' '16.92' '24.42'\n",
      " '39.42' '23.58' '21.42' '33.00' '26.33' '26.25' '28.17' '20.83' '43.17'\n",
      " '56.83' '15.17' '29.83' '31.00' '51.92' '69.50' '19.58' '22.25' '38.42'\n",
      " '26.58' '35.00' '29.42' '49.17' '51.83' '58.58' '53.33' '27.17' '25.92'\n",
      " '30.58' '17.25' '27.33' '36.50' '29.75' '52.42' '36.17' '34.58' '21.92'\n",
      " '36.58' '31.08' '30.42' '21.08' '17.42' '39.17' '26.50' '17.33' '23.75'\n",
      " '34.67' '74.83' '45.33' '47.25' '24.17' '39.25' '39.00' '64.08' '31.33'\n",
      " '21.00' '13.75' '46.00' '20.25' '60.92' '30.00' '22.83' '45.17' '41.58'\n",
      " '55.75' '25.33' '31.83' '33.92' '24.92' '80.25' '30.08' '48.33' '76.75'\n",
      " '51.33' '41.92' '29.58' '32.17' '51.42' '42.17' '43.08' '59.50' '65.17'\n",
      " '20.33' '48.50' '28.08' '73.42' '51.58' '38.67' '46.08' '20.08' '42.25'\n",
      " '16.17' '47.83' '22.00' '38.33' '25.58' '21.58' '36.08' '38.75' '35.58'\n",
      " '31.58' '15.75' '17.92' '30.33' '47.17' '25.83' '50.25' '36.42']\n",
      "['u' 'y' '?' 'l']\n",
      "['g' 'p' '?' 'gg']\n",
      "['w' 'q' 'm' 'r' 'cc' 'k' 'c' 'd' 'x' 'i' 'e' 'aa' 'ff' 'j' '?']\n",
      "['v' 'h' 'bb' 'ff' 'j' 'z' '?' 'o' 'dd' 'n']\n",
      "['t' 'f']\n",
      "['t' 'f']\n",
      "['f' 't']\n",
      "['g' 's' 'p']\n",
      "['00202' '00043' '00280' '00100' '00120' '00360' '00164' '00080' '00180'\n",
      " '00052' '00128' '00260' '00000' '00320' '00396' '00096' '00200' '00300'\n",
      " '00145' '00500' '00168' '00434' '00583' '00030' '00240' '00070' '00455'\n",
      " '00311' '00216' '00491' '00400' '00239' '00160' '00711' '00250' '00520'\n",
      " '00515' '00420' '?' '00980' '00443' '00140' '00094' '00368' '00288'\n",
      " '00928' '00188' '00112' '00171' '00268' '00167' '00075' '00152' '00176'\n",
      " '00329' '00212' '00410' '00274' '00375' '00408' '00350' '00204' '00040'\n",
      " '00181' '00399' '00440' '00093' '00060' '00395' '00393' '00021' '00029'\n",
      " '00102' '00431' '00370' '00024' '00020' '00129' '00510' '00195' '00144'\n",
      " '00380' '00049' '00050' '00381' '00150' '00117' '00056' '00211' '00230'\n",
      " '00156' '00022' '00228' '00519' '00253' '00487' '00220' '00088' '00073'\n",
      " '00121' '00470' '00136' '00132' '00292' '00154' '00272' '00340' '00108'\n",
      " '00720' '00450' '00232' '00170' '01160' '00411' '00460' '00348' '00480'\n",
      " '00640' '00372' '00276' '00221' '00352' '00141' '00178' '00600' '00550'\n",
      " '02000' '00225' '00210' '00110' '00356' '00045' '00062' '00092' '00174'\n",
      " '00017' '00086' '00454' '00254' '00028' '00263' '00333' '00312' '00290'\n",
      " '00371' '00099' '00252' '00760' '00560' '00130' '00523' '00680' '00163'\n",
      " '00208' '00383' '00330' '00422' '00840' '00432' '00032' '00186' '00303'\n",
      " '00349' '00224' '00369' '00076' '00231' '00309' '00416' '00465' '00256']\n",
      "['+' '-']\n"
     ]
    }
   ],
   "source": [
    "# for each of the categorical columns, let's see the unique value\n",
    "for i in df.columns:\n",
    "    if df[i].dtype==object:\n",
    "        print (df[i].unique())"
   ]
  },
  {
   "cell_type": "code",
   "execution_count": 7,
   "id": "b4e378af",
   "metadata": {},
   "outputs": [],
   "source": [
    "# consistent missing values\n",
    "df=df.replace('?',np.nan)"
   ]
  },
  {
   "cell_type": "code",
   "execution_count": 8,
   "id": "1b0d6588",
   "metadata": {},
   "outputs": [
    {
     "data": {
      "text/plain": [
       "Gender            1.739130\n",
       "Age               1.739130\n",
       "debt              0.000000\n",
       "married           0.869565\n",
       "bankcustomer      0.869565\n",
       "educationlevel    1.304348\n",
       "ethinicity        1.304348\n",
       "yearsemployed     0.000000\n",
       "priordfult        0.000000\n",
       "employed          0.000000\n",
       "creditscore       0.000000\n",
       "driverlicense     0.000000\n",
       "citizen           0.000000\n",
       "zipcode           1.884058\n",
       "income            0.000000\n",
       "approvalstatus    0.000000\n",
       "dtype: float64"
      ]
     },
     "execution_count": 8,
     "metadata": {},
     "output_type": "execute_result"
    }
   ],
   "source": [
    "df.isnull().sum()*100/len(df)"
   ]
  },
  {
   "cell_type": "code",
   "execution_count": 9,
   "id": "ee922064",
   "metadata": {},
   "outputs": [],
   "source": [
    "def fix_missing_mean(df,col):\n",
    "    df[col]=pd.to_numeric(df[col],errors='coerce')\n",
    "    df[col].fillna(df[col].mean(),inplace=True)\n",
    "    \n",
    "def fix_missing_ffill(df,col):\n",
    "    df[col]=df[col].fillna(method=\"ffill\")"
   ]
  },
  {
   "cell_type": "code",
   "execution_count": 10,
   "id": "278cb57c",
   "metadata": {},
   "outputs": [
    {
     "data": {
      "text/plain": [
       "Gender            0\n",
       "Age               0\n",
       "debt              0\n",
       "married           0\n",
       "bankcustomer      0\n",
       "educationlevel    0\n",
       "ethinicity        0\n",
       "yearsemployed     0\n",
       "priordfult        0\n",
       "employed          0\n",
       "creditscore       0\n",
       "driverlicense     0\n",
       "citizen           0\n",
       "zipcode           0\n",
       "income            0\n",
       "approvalstatus    0\n",
       "dtype: int64"
      ]
     },
     "execution_count": 10,
     "metadata": {},
     "output_type": "execute_result"
    }
   ],
   "source": [
    "fix_missing_ffill(df,'Gender')\n",
    "fix_missing_ffill(df,'bankcustomer')\n",
    "fix_missing_ffill(df,'married')\n",
    "fix_missing_ffill(df,'Age')\n",
    "fix_missing_ffill(df,'ethinicity')\n",
    "fix_missing_ffill(df,'educationlevel')\n",
    "fix_missing_mean(df,'zipcode')\n",
    "df.isnull().sum()"
   ]
  },
  {
   "cell_type": "code",
   "execution_count": 11,
   "id": "1e746efd",
   "metadata": {},
   "outputs": [],
   "source": [
    "##analysis (supervised ML CLASSIFICATION )"
   ]
  },
  {
   "cell_type": "code",
   "execution_count": 12,
   "id": "7e5ff25b",
   "metadata": {},
   "outputs": [
    {
     "data": {
      "text/html": [
       "<div>\n",
       "<style scoped>\n",
       "    .dataframe tbody tr th:only-of-type {\n",
       "        vertical-align: middle;\n",
       "    }\n",
       "\n",
       "    .dataframe tbody tr th {\n",
       "        vertical-align: top;\n",
       "    }\n",
       "\n",
       "    .dataframe thead th {\n",
       "        text-align: right;\n",
       "    }\n",
       "</style>\n",
       "<table border=\"1\" class=\"dataframe\">\n",
       "  <thead>\n",
       "    <tr style=\"text-align: right;\">\n",
       "      <th></th>\n",
       "      <th>Gender</th>\n",
       "      <th>Age</th>\n",
       "      <th>debt</th>\n",
       "      <th>married</th>\n",
       "      <th>bankcustomer</th>\n",
       "      <th>educationlevel</th>\n",
       "      <th>ethinicity</th>\n",
       "      <th>yearsemployed</th>\n",
       "      <th>priordfult</th>\n",
       "      <th>employed</th>\n",
       "      <th>creditscore</th>\n",
       "      <th>driverlicense</th>\n",
       "      <th>citizen</th>\n",
       "      <th>zipcode</th>\n",
       "      <th>income</th>\n",
       "    </tr>\n",
       "  </thead>\n",
       "  <tbody>\n",
       "    <tr>\n",
       "      <th>0</th>\n",
       "      <td>b</td>\n",
       "      <td>30.83</td>\n",
       "      <td>0.000</td>\n",
       "      <td>u</td>\n",
       "      <td>g</td>\n",
       "      <td>w</td>\n",
       "      <td>v</td>\n",
       "      <td>1.25</td>\n",
       "      <td>t</td>\n",
       "      <td>t</td>\n",
       "      <td>1</td>\n",
       "      <td>f</td>\n",
       "      <td>g</td>\n",
       "      <td>202.0</td>\n",
       "      <td>0</td>\n",
       "    </tr>\n",
       "    <tr>\n",
       "      <th>1</th>\n",
       "      <td>a</td>\n",
       "      <td>58.67</td>\n",
       "      <td>4.460</td>\n",
       "      <td>u</td>\n",
       "      <td>g</td>\n",
       "      <td>q</td>\n",
       "      <td>h</td>\n",
       "      <td>3.04</td>\n",
       "      <td>t</td>\n",
       "      <td>t</td>\n",
       "      <td>6</td>\n",
       "      <td>f</td>\n",
       "      <td>g</td>\n",
       "      <td>43.0</td>\n",
       "      <td>560</td>\n",
       "    </tr>\n",
       "    <tr>\n",
       "      <th>2</th>\n",
       "      <td>a</td>\n",
       "      <td>24.50</td>\n",
       "      <td>0.500</td>\n",
       "      <td>u</td>\n",
       "      <td>g</td>\n",
       "      <td>q</td>\n",
       "      <td>h</td>\n",
       "      <td>1.50</td>\n",
       "      <td>t</td>\n",
       "      <td>f</td>\n",
       "      <td>0</td>\n",
       "      <td>f</td>\n",
       "      <td>g</td>\n",
       "      <td>280.0</td>\n",
       "      <td>824</td>\n",
       "    </tr>\n",
       "    <tr>\n",
       "      <th>3</th>\n",
       "      <td>b</td>\n",
       "      <td>27.83</td>\n",
       "      <td>1.540</td>\n",
       "      <td>u</td>\n",
       "      <td>g</td>\n",
       "      <td>w</td>\n",
       "      <td>v</td>\n",
       "      <td>3.75</td>\n",
       "      <td>t</td>\n",
       "      <td>t</td>\n",
       "      <td>5</td>\n",
       "      <td>t</td>\n",
       "      <td>g</td>\n",
       "      <td>100.0</td>\n",
       "      <td>3</td>\n",
       "    </tr>\n",
       "    <tr>\n",
       "      <th>4</th>\n",
       "      <td>b</td>\n",
       "      <td>20.17</td>\n",
       "      <td>5.625</td>\n",
       "      <td>u</td>\n",
       "      <td>g</td>\n",
       "      <td>w</td>\n",
       "      <td>v</td>\n",
       "      <td>1.71</td>\n",
       "      <td>t</td>\n",
       "      <td>f</td>\n",
       "      <td>0</td>\n",
       "      <td>f</td>\n",
       "      <td>s</td>\n",
       "      <td>120.0</td>\n",
       "      <td>0</td>\n",
       "    </tr>\n",
       "  </tbody>\n",
       "</table>\n",
       "</div>"
      ],
      "text/plain": [
       "  Gender    Age   debt married bankcustomer educationlevel ethinicity  \\\n",
       "0      b  30.83  0.000       u            g              w          v   \n",
       "1      a  58.67  4.460       u            g              q          h   \n",
       "2      a  24.50  0.500       u            g              q          h   \n",
       "3      b  27.83  1.540       u            g              w          v   \n",
       "4      b  20.17  5.625       u            g              w          v   \n",
       "\n",
       "   yearsemployed priordfult employed  creditscore driverlicense citizen  \\\n",
       "0           1.25          t        t            1             f       g   \n",
       "1           3.04          t        t            6             f       g   \n",
       "2           1.50          t        f            0             f       g   \n",
       "3           3.75          t        t            5             t       g   \n",
       "4           1.71          t        f            0             f       s   \n",
       "\n",
       "   zipcode  income  \n",
       "0    202.0       0  \n",
       "1     43.0     560  \n",
       "2    280.0     824  \n",
       "3    100.0       3  \n",
       "4    120.0       0  "
      ]
     },
     "execution_count": 12,
     "metadata": {},
     "output_type": "execute_result"
    }
   ],
   "source": [
    "y=df['approvalstatus']\n",
    "features=df.drop(['approvalstatus'],axis=1)\n",
    "features.head()"
   ]
  },
  {
   "cell_type": "code",
   "execution_count": 13,
   "id": "31883e03",
   "metadata": {},
   "outputs": [
    {
     "data": {
      "text/html": [
       "<div>\n",
       "<style scoped>\n",
       "    .dataframe tbody tr th:only-of-type {\n",
       "        vertical-align: middle;\n",
       "    }\n",
       "\n",
       "    .dataframe tbody tr th {\n",
       "        vertical-align: top;\n",
       "    }\n",
       "\n",
       "    .dataframe thead th {\n",
       "        text-align: right;\n",
       "    }\n",
       "</style>\n",
       "<table border=\"1\" class=\"dataframe\">\n",
       "  <thead>\n",
       "    <tr style=\"text-align: right;\">\n",
       "      <th></th>\n",
       "      <th>Gender</th>\n",
       "      <th>Age</th>\n",
       "      <th>debt</th>\n",
       "      <th>married</th>\n",
       "      <th>bankcustomer</th>\n",
       "      <th>educationlevel</th>\n",
       "      <th>ethinicity</th>\n",
       "      <th>yearsemployed</th>\n",
       "      <th>priordfult</th>\n",
       "      <th>employed</th>\n",
       "      <th>creditscore</th>\n",
       "      <th>driverlicense</th>\n",
       "      <th>citizen</th>\n",
       "      <th>zipcode</th>\n",
       "      <th>income</th>\n",
       "    </tr>\n",
       "  </thead>\n",
       "  <tbody>\n",
       "    <tr>\n",
       "      <th>0</th>\n",
       "      <td>1.0</td>\n",
       "      <td>156.0</td>\n",
       "      <td>0.000</td>\n",
       "      <td>1.0</td>\n",
       "      <td>0.0</td>\n",
       "      <td>12.0</td>\n",
       "      <td>7.0</td>\n",
       "      <td>1.25</td>\n",
       "      <td>1.0</td>\n",
       "      <td>1.0</td>\n",
       "      <td>1</td>\n",
       "      <td>0.0</td>\n",
       "      <td>0.0</td>\n",
       "      <td>69.0</td>\n",
       "      <td>0</td>\n",
       "    </tr>\n",
       "    <tr>\n",
       "      <th>1</th>\n",
       "      <td>0.0</td>\n",
       "      <td>328.0</td>\n",
       "      <td>4.460</td>\n",
       "      <td>1.0</td>\n",
       "      <td>0.0</td>\n",
       "      <td>10.0</td>\n",
       "      <td>3.0</td>\n",
       "      <td>3.04</td>\n",
       "      <td>1.0</td>\n",
       "      <td>1.0</td>\n",
       "      <td>6</td>\n",
       "      <td>0.0</td>\n",
       "      <td>0.0</td>\n",
       "      <td>11.0</td>\n",
       "      <td>560</td>\n",
       "    </tr>\n",
       "    <tr>\n",
       "      <th>2</th>\n",
       "      <td>0.0</td>\n",
       "      <td>89.0</td>\n",
       "      <td>0.500</td>\n",
       "      <td>1.0</td>\n",
       "      <td>0.0</td>\n",
       "      <td>10.0</td>\n",
       "      <td>3.0</td>\n",
       "      <td>1.50</td>\n",
       "      <td>1.0</td>\n",
       "      <td>0.0</td>\n",
       "      <td>0</td>\n",
       "      <td>0.0</td>\n",
       "      <td>0.0</td>\n",
       "      <td>97.0</td>\n",
       "      <td>824</td>\n",
       "    </tr>\n",
       "    <tr>\n",
       "      <th>3</th>\n",
       "      <td>1.0</td>\n",
       "      <td>125.0</td>\n",
       "      <td>1.540</td>\n",
       "      <td>1.0</td>\n",
       "      <td>0.0</td>\n",
       "      <td>12.0</td>\n",
       "      <td>7.0</td>\n",
       "      <td>3.75</td>\n",
       "      <td>1.0</td>\n",
       "      <td>1.0</td>\n",
       "      <td>5</td>\n",
       "      <td>1.0</td>\n",
       "      <td>0.0</td>\n",
       "      <td>31.0</td>\n",
       "      <td>3</td>\n",
       "    </tr>\n",
       "    <tr>\n",
       "      <th>4</th>\n",
       "      <td>1.0</td>\n",
       "      <td>43.0</td>\n",
       "      <td>5.625</td>\n",
       "      <td>1.0</td>\n",
       "      <td>0.0</td>\n",
       "      <td>12.0</td>\n",
       "      <td>7.0</td>\n",
       "      <td>1.71</td>\n",
       "      <td>1.0</td>\n",
       "      <td>0.0</td>\n",
       "      <td>0</td>\n",
       "      <td>0.0</td>\n",
       "      <td>2.0</td>\n",
       "      <td>37.0</td>\n",
       "      <td>0</td>\n",
       "    </tr>\n",
       "  </tbody>\n",
       "</table>\n",
       "</div>"
      ],
      "text/plain": [
       "   Gender    Age   debt  married  bankcustomer  educationlevel  ethinicity  \\\n",
       "0     1.0  156.0  0.000      1.0           0.0            12.0         7.0   \n",
       "1     0.0  328.0  4.460      1.0           0.0            10.0         3.0   \n",
       "2     0.0   89.0  0.500      1.0           0.0            10.0         3.0   \n",
       "3     1.0  125.0  1.540      1.0           0.0            12.0         7.0   \n",
       "4     1.0   43.0  5.625      1.0           0.0            12.0         7.0   \n",
       "\n",
       "   yearsemployed  priordfult  employed  creditscore  driverlicense  citizen  \\\n",
       "0           1.25         1.0       1.0            1            0.0      0.0   \n",
       "1           3.04         1.0       1.0            6            0.0      0.0   \n",
       "2           1.50         1.0       0.0            0            0.0      0.0   \n",
       "3           3.75         1.0       1.0            5            1.0      0.0   \n",
       "4           1.71         1.0       0.0            0            0.0      2.0   \n",
       "\n",
       "   zipcode  income  \n",
       "0     69.0       0  \n",
       "1     11.0     560  \n",
       "2     97.0     824  \n",
       "3     31.0       3  \n",
       "4     37.0       0  "
      ]
     },
     "execution_count": 13,
     "metadata": {},
     "output_type": "execute_result"
    }
   ],
   "source": [
    "object_cols=['Gender','Age','married','bankcustomer','educationlevel','ethinicity','priordfult','employed','driverlicense','citizen', 'zipcode']\n",
    "\n",
    "X=features.copy()\n",
    "ordinal_encoder=OrdinalEncoder()\n",
    "X[object_cols]=ordinal_encoder.fit_transform(features[object_cols])\n",
    "X.head()"
   ]
  },
  {
   "cell_type": "code",
   "execution_count": 14,
   "id": "f3075e90",
   "metadata": {},
   "outputs": [
    {
     "data": {
      "image/png": "[encoded data removed]",
      "text/plain": [
       "<Figure size 432x360 with 1 Axes>"
      ]
     },
     "metadata": {
      "needs_background": "light"
     },
     "output_type": "display_data"
    }
   ],
   "source": [
    "fig, ax = plt.subplots(1, 1, figsize=(6,5), sharex=True)\n",
    "sns.countplot(data=df, x='approvalstatus',order=df[\"approvalstatus\"].value_counts().index)\n",
    "\n",
    "plt.show()\n"
   ]
  },
  {
   "cell_type": "code",
   "execution_count": 15,
   "id": "254afd66",
   "metadata": {},
   "outputs": [],
   "source": [
    "xTrain,xTest,yTrain,yTest = train_test_split(X,y,test_size=.30,random_state=2)"
   ]
  },
  {
   "cell_type": "code",
   "execution_count": 16,
   "id": "d69dad71",
   "metadata": {},
   "outputs": [],
   "source": [
    "#a)logitreg\n",
    "from sklearn.preprocessing import MinMaxScaler\n",
    "scaler=MinMaxScaler(feature_range=(0,1))\n",
    "rescaledxTrain=scaler.fit_transform(xTrain)\n",
    "rescaledxTest=scaler.fit_transform(xTest)"
   ]
  },
  {
   "cell_type": "code",
   "execution_count": 17,
   "id": "ec754074",
   "metadata": {},
   "outputs": [
    {
     "data": {
      "text/plain": [
       "LogisticRegression()"
      ]
     },
     "execution_count": 17,
     "metadata": {},
     "output_type": "execute_result"
    }
   ],
   "source": [
    "from sklearn.linear_model import LogisticRegression\n",
    "logreg=LogisticRegression()\n",
    "logreg.fit(rescaledxTrain, yTrain)"
   ]
  },
  {
   "cell_type": "code",
   "execution_count": 18,
   "id": "b6027f73",
   "metadata": {},
   "outputs": [
    {
     "name": "stdout",
     "output_type": "stream",
     "text": [
      "test:Accuracy= 0.8792270531400966\n",
      "train:Accuracy= 0.855072463768116\n"
     ]
    },
    {
     "data": {
      "text/plain": [
       "array([[91, 11],\n",
       "       [14, 91]], dtype=int64)"
      ]
     },
     "execution_count": 18,
     "metadata": {},
     "output_type": "execute_result"
    }
   ],
   "source": [
    "from sklearn.metrics import confusion_matrix\n",
    "y_pred= logreg.predict(rescaledxTest)\n",
    "y_pred1=logreg.predict(rescaledxTrain)\n",
    "\n",
    "print ('test:Accuracy=',logreg.score(rescaledxTest,yTest))\n",
    "print ('train:Accuracy=',logreg.score(rescaledxTrain, yTrain))\n",
    "\n",
    "\n",
    "confusion_matrix(yTest,y_pred)"
   ]
  },
  {
   "cell_type": "code",
   "execution_count": 19,
   "id": "752802e4",
   "metadata": {},
   "outputs": [
    {
     "name": "stdout",
     "output_type": "stream",
     "text": [
      "1 Train score: 0.8426501035196687 Test score: 0.8840579710144928\n",
      "2 Train score: 0.8426501035196687 Test score: 0.8840579710144928\n",
      "3 Train score: 0.8509316770186336 Test score: 0.855072463768116\n",
      "4 Train score: 0.8737060041407867 Test score: 0.8357487922705314\n",
      "5 Train score: 0.8881987577639752 Test score: 0.8405797101449275\n",
      "6 Train score: 0.9254658385093167 Test score: 0.8115942028985508\n",
      "7 Train score: 0.94824016563147 Test score: 0.821256038647343\n",
      "8 Train score: 0.9668737060041408 Test score: 0.8115942028985508\n",
      "9 Train score: 0.9813664596273292 Test score: 0.8309178743961353\n"
     ]
    },
    {
     "data": {
      "text/plain": [
       "<matplotlib.legend.Legend at 0x154f97482e0>"
      ]
     },
     "execution_count": 19,
     "metadata": {},
     "output_type": "execute_result"
    },
    {
     "data": {
      "image/png": "[encoded data removed]",
      "text/plain": [
       "<Figure size 432x288 with 1 Axes>"
      ]
     },
     "metadata": {
      "needs_background": "light"
     },
     "output_type": "display_data"
    }
   ],
   "source": [
    "#b)DECISION tREE\n",
    "train_acc=[]\n",
    "test_acc=[]\n",
    "list_score=[]\n",
    "approvalstatus=[]\n",
    "for i in range(1,10):\n",
    "    dtc=DecisionTreeClassifier(max_depth= i,random_state=0)\n",
    "    \n",
    "    dtc.fit(xTrain, yTrain)\n",
    "    \n",
    "    train_pred=dtc.predict(xTrain)\n",
    "    test_pred=dtc.predict(xTest)\n",
    "    \n",
    "    test_acc=accuracy_score(yTest,test_pred)\n",
    "    train_acc=accuracy_score(yTrain, train_pred)\n",
    "    print(i,'Train score:',train_acc,'Test score:',test_acc)\n",
    "    \n",
    "    list_score.append([i,accuracy_score(train_pred, yTrain),accuracy_score(test_pred, yTest)]) \n",
    "\n",
    " #plot\n",
    "df2 = DataFrame (list_score,columns=['Depth','Train Accuracy','Test Accuracy'])\n",
    "plt.plot(df2['Depth'],df2['Test Accuracy'],label='Test Accuracy')\n",
    "plt.plot(df2['Depth'],df2['Train Accuracy'],label='Train Accuracy')\n",
    "plt.xlabel('Depth')\n",
    "plt.ylabel('Accuracy')\n",
    "plt.legend()    "
   ]
  },
  {
   "cell_type": "code",
   "execution_count": 20,
   "id": "32cc0662",
   "metadata": {
    "scrolled": true
   },
   "outputs": [
    {
     "name": "stdout",
     "output_type": "stream",
     "text": [
      "train score= 0.9813664596273292 test score= 0.8695652173913043\n"
     ]
    },
    {
     "data": {
      "image/png": "[encoded data removed]",
      "text/plain": [
       "<Figure size 504x648 with 1 Axes>"
      ]
     },
     "metadata": {
      "needs_background": "light"
     },
     "output_type": "display_data"
    }
   ],
   "source": [
    "#c)gradient boost\n",
    "clf=GradientBoostingClassifier(random_state=0)\n",
    "clf.fit(xTrain, yTrain)\n",
    "\n",
    "train_predict=clf.predict(xTrain)\n",
    "test_predict=clf.predict(xTest)\n",
    "\n",
    "test_acc=accuracy_score(yTest,test_predict)\n",
    "train_acc=accuracy_score(yTrain,train_predict)\n",
    "print('train score=',train_acc,'test score=',test_acc)\n",
    "\n",
    "#plot feature importance\n",
    "feature_importance=clf.feature_importances_\n",
    "feature_importance = 100.0 * (feature_importance /feature_importance.max())\n",
    "sorted_idx = np.argsort(feature_importance)\n",
    "pos = np.arange(sorted_idx.shape[0]) + .5\n",
    "\n",
    "# plt.subplot(1, 2, 2)\n",
    "plt.figure(figsize=(7, 9))\n",
    "plt.barh(pos, feature_importance[sorted_idx], align='center')\n",
    "plt.yticks(pos, X.keys()[sorted_idx])\n",
    "plt.xlabel('Importance',fontsize=16)\n",
    "plt.ylabel('Features',fontsize=16)\n",
    "plt.show()\n",
    "\n"
   ]
  },
  {
   "cell_type": "code",
   "execution_count": 21,
   "id": "9864f3c6",
   "metadata": {},
   "outputs": [
    {
     "name": "stderr",
     "output_type": "stream",
     "text": [
      "C:\\Users\\KS\\anaconda3\\lib\\site-packages\\xgboost\\sklearn.py:1224: UserWarning: The use of label encoder in XGBClassifier is deprecated and will be removed in a future release. To remove this warning, do the following: 1) Pass option use_label_encoder=False when constructing XGBClassifier object; and 2) Encode your labels (y) as integers starting with 0, i.e. 0, 1, 2, ..., [num_class - 1].\n",
      "  warnings.warn(label_encoder_deprecation_msg, UserWarning)\n"
     ]
    },
    {
     "name": "stdout",
     "output_type": "stream",
     "text": [
      "[11:21:51] WARNING: D:\\bld\\xgboost-split_1645118015404\\work\\src\\learner.cc:1115: Starting in XGBoost 1.3.0, the default evaluation metric used with the objective 'binary:logistic' was changed from 'error' to 'logloss'. Explicitly set eval_metric if you'd like to restore the old behavior.\n",
      "Train score: 1.0 Test score: 0.8743961352657005\n"
     ]
    }
   ],
   "source": [
    "#d)xgboost\n",
    "import xgboost as xgb\n",
    "from xgboost import XGBClassifier\n",
    "model= XGBClassifier()\n",
    "model.fit(xTrain, yTrain)\n",
    "\n",
    "train_predict = model.predict(xTrain)\n",
    "test_predict = model.predict(xTest)\n",
    "\n",
    "test_acc = accuracy_score(yTest, test_predict)\n",
    "train_acc = accuracy_score(yTrain, train_predict)\n",
    "print('Train score:',train_acc,'Test score:',test_acc)"
   ]
  },
  {
   "cell_type": "code",
   "execution_count": 22,
   "id": "4a9afdbc",
   "metadata": {},
   "outputs": [
    {
     "name": "stdout",
     "output_type": "stream",
     "text": [
      "Train score: 0.8115942028985508 Test score: 0.6714975845410628\n",
      "2 Train score: 0.8115942028985508 Test score: 0.6714975845410628\n",
      "Train score: 0.7929606625258799 Test score: 0.6811594202898551\n",
      "3 Train score: 0.7929606625258799 Test score: 0.6811594202898551\n",
      "Train score: 0.7619047619047619 Test score: 0.6521739130434783\n",
      "4 Train score: 0.7619047619047619 Test score: 0.6521739130434783\n",
      "Train score: 0.7743271221532091 Test score: 0.6908212560386473\n",
      "5 Train score: 0.7743271221532091 Test score: 0.6908212560386473\n",
      "Train score: 0.7660455486542443 Test score: 0.6763285024154589\n",
      "6 Train score: 0.7660455486542443 Test score: 0.6763285024154589\n",
      "Train score: 0.7370600414078675 Test score: 0.6956521739130435\n",
      "7 Train score: 0.7370600414078675 Test score: 0.6956521739130435\n",
      "Train score: 0.7391304347826086 Test score: 0.7101449275362319\n",
      "8 Train score: 0.7391304347826086 Test score: 0.7101449275362319\n",
      "Train score: 0.7308488612836439 Test score: 0.7101449275362319\n",
      "9 Train score: 0.7308488612836439 Test score: 0.7101449275362319\n",
      "Train score: 0.7349896480331263 Test score: 0.7198067632850241\n",
      "10 Train score: 0.7349896480331263 Test score: 0.7198067632850241\n",
      "Train score: 0.7308488612836439 Test score: 0.7101449275362319\n",
      "11 Train score: 0.7308488612836439 Test score: 0.7101449275362319\n",
      "Train score: 0.722567287784679 Test score: 0.6811594202898551\n",
      "12 Train score: 0.722567287784679 Test score: 0.6811594202898551\n",
      "Train score: 0.7204968944099379 Test score: 0.6908212560386473\n",
      "13 Train score: 0.7204968944099379 Test score: 0.6908212560386473\n",
      "Train score: 0.7163561076604554 Test score: 0.6956521739130435\n",
      "14 Train score: 0.7163561076604554 Test score: 0.6956521739130435\n",
      "Train score: 0.7287784679089027 Test score: 0.6811594202898551\n",
      "15 Train score: 0.7287784679089027 Test score: 0.6811594202898551\n",
      "Train score: 0.7204968944099379 Test score: 0.6956521739130435\n",
      "16 Train score: 0.7204968944099379 Test score: 0.6956521739130435\n",
      "Train score: 0.7287784679089027 Test score: 0.6763285024154589\n",
      "17 Train score: 0.7287784679089027 Test score: 0.6763285024154589\n",
      "Train score: 0.7204968944099379 Test score: 0.6859903381642513\n",
      "18 Train score: 0.7204968944099379 Test score: 0.6859903381642513\n",
      "Train score: 0.7184265010351967 Test score: 0.6859903381642513\n",
      "19 Train score: 0.7184265010351967 Test score: 0.6859903381642513\n"
     ]
    },
    {
     "data": {
      "text/plain": [
       "<matplotlib.legend.Legend at 0x154f9ae17f0>"
      ]
     },
     "execution_count": 22,
     "metadata": {},
     "output_type": "execute_result"
    },
    {
     "data": {
      "image/png": "[encoded data removed]",
      "text/plain": [
       "<Figure size 432x288 with 1 Axes>"
      ]
     },
     "metadata": {
      "needs_background": "light"
     },
     "output_type": "display_data"
    }
   ],
   "source": [
    "#e)knn\n",
    "from sklearn.neighbors import KNeighborsClassifier\n",
    "\n",
    "train_acc=[]\n",
    "test_acc=[]\n",
    "list_score=[]\n",
    "\n",
    "for i in range(2,20):\n",
    "    knn=KNeighborsClassifier(n_neighbors=i)\n",
    "    \n",
    "    knn.fit(xTrain, yTrain)\n",
    "    \n",
    "    train_pre=knn.predict(xTrain)\n",
    "    test_pre=knn.predict(xTest)\n",
    "    \n",
    "    test_acc = accuracy_score(yTest, test_pre)\n",
    "    train_acc = accuracy_score(yTrain, train_pre)\n",
    "    print('Train score:',train_acc,'Test score:',test_acc)\n",
    "    print(i,'Train score:',train_acc,'Test score:',test_acc)\n",
    "\n",
    "    list_score.append([i,accuracy_score(train_pre, yTrain),accuracy_score(test_pre, yTest)])\n",
    "    \n",
    "\n",
    "df3 = DataFrame (list_score,columns=['n_neighbors','Train Accuracy','Test Accuracy'])\n",
    "plt.plot(df3['n_neighbors'],df3['Test Accuracy'],label='Test Accuracy')\n",
    "plt.plot(df3['n_neighbors'],df3['Train Accuracy'],label='Train Accuracy')\n",
    "plt.xlabel('n_neighbors')\n",
    "plt.ylabel('Accuracy')\n",
    "plt.legend()    "
   ]
  },
  {
   "cell_type": "code",
   "execution_count": 23,
   "id": "9f1b9cc6",
   "metadata": {},
   "outputs": [
    {
     "name": "stdout",
     "output_type": "stream",
     "text": [
      "+--------------------+----------------+---------------+\n",
      "|       MODEL        | Train_ACCURACY | Test_ACCURACY |\n",
      "+--------------------+----------------+---------------+\n",
      "| logitic_Regression |      0.86      |      0.88     |\n",
      "|   Decision_TREE    |      0.85      |      0.86     |\n",
      "|   Gradient_Boost   |      0.98      |      0.87     |\n",
      "|      XGBoost       |      1.0       |      0.87     |\n",
      "|        KNN         |      0.73      |      0.72     |\n",
      "+--------------------+----------------+---------------+\n"
     ]
    }
   ],
   "source": [
    "from prettytable import PrettyTable \n",
    "accu_table= PrettyTable(['MODEL','Train_ACCURACY','Test_ACCURACY'])\n",
    "accu_table.add_row(['logitic_Regression',0.86,0.88])\n",
    "accu_table.add_row(['Decision_TREE',0.85,0.86])\n",
    "accu_table.add_row(['Gradient_Boost',0.98,0.87])\n",
    "accu_table.add_row(['XGBoost',1.0,0.87])\n",
    "accu_table.add_row(['KNN',0.73,0.72])\n",
    "\n",
    "print(accu_table)"
   ]
  },
  {
   "cell_type": "code",
   "execution_count": 24,
   "id": "349015f9",
   "metadata": {},
   "outputs": [],
   "source": [
    "##Conclusion-\n",
    "#I have used five different types of classfiers techniques to predict the approval rate based on the given set of features\n",
    "#WHILE the best test data accuracy (88%) is obtaied from the Logistic Regression classifier. The small difference in train and test accuracy scores indicates the absence of overfitting and underfitting.\n",
    "#Also,I found that priordefault has highest SIGNIFICANCE in predicting the approval rates. (see, c)Gradient Boost,graph) \n",
    "#To sum up,I conclude by saying the feature selected(given in the dataset) work well in predicting the approval rate of credit cards so, these predictions only work iff data is pre-processed and cleaned properly."
   ]
  },
  {
   "cell_type": "code",
   "execution_count": 25,
   "id": "a3fea5f9",
   "metadata": {},
   "outputs": [],
   "source": [
    "#Reference-this learning project is totally amalgation of works by Lopa Nayak & Aman Sanga and Ibrahim Saidi. \n",
    "        #BUT,author tries to understand and implement the basic rationale behind these codes. "
   ]
  }
 ],
 "metadata": {
  "kernelspec": {
   "display_name": "Python 3",
   "language": "python",
   "name": "python3"
  },
  "language_info": {
   "codemirror_mode": {
    "name": "ipython",
    "version": 3
   },
   "file_extension": ".py",
   "mimetype": "text/x-python",
   "name": "python",
   "nbconvert_exporter": "python",
   "pygments_lexer": "ipython3",
   "version": "3.8.8"
  }
 },
 "nbformat": 4,
 "nbformat_minor": 5
}
